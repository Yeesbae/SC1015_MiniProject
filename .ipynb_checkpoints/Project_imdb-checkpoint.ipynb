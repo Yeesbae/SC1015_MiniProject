{
 "cells": [
  {
   "cell_type": "code",
   "execution_count": 101,
   "id": "4584bb14-4451-4c14-98a5-b18d743668c8",
   "metadata": {},
   "outputs": [],
   "source": [
    "import numpy as np\n",
    "import pandas as pd\n",
    "import seaborn as sb\n",
    "import matplotlib.pyplot as plt # we only need pyplot\n",
    "sb.set() # set the default Seaborn style for graphics"
   ]
  },
  {
   "cell_type": "code",
   "execution_count": 119,
   "id": "704650b2-b69a-4e66-b26b-0143b6d10a26",
   "metadata": {
    "scrolled": true
   },
   "outputs": [
    {
     "data": {
      "text/html": [
       "<div>\n",
       "<style scoped>\n",
       "    .dataframe tbody tr th:only-of-type {\n",
       "        vertical-align: middle;\n",
       "    }\n",
       "\n",
       "    .dataframe tbody tr th {\n",
       "        vertical-align: top;\n",
       "    }\n",
       "\n",
       "    .dataframe thead th {\n",
       "        text-align: right;\n",
       "    }\n",
       "</style>\n",
       "<table border=\"1\" class=\"dataframe\">\n",
       "  <thead>\n",
       "    <tr style=\"text-align: right;\">\n",
       "      <th></th>\n",
       "      <th>Movie Name</th>\n",
       "      <th>Release Year</th>\n",
       "      <th>Duration</th>\n",
       "      <th>IMDB Rating</th>\n",
       "      <th>Metascore</th>\n",
       "      <th>Votes</th>\n",
       "      <th>Genre</th>\n",
       "      <th>Director</th>\n",
       "      <th>Cast</th>\n",
       "      <th>Gross</th>\n",
       "    </tr>\n",
       "  </thead>\n",
       "  <tbody>\n",
       "    <tr>\n",
       "      <th>0</th>\n",
       "      <td>The Godfather</td>\n",
       "      <td>1972</td>\n",
       "      <td>175</td>\n",
       "      <td>9.2</td>\n",
       "      <td>100.0</td>\n",
       "      <td>2,002,655</td>\n",
       "      <td>Crime, Drama</td>\n",
       "      <td>Francis Ford Coppola</td>\n",
       "      <td>Marlon Brando</td>\n",
       "      <td>$134.97M</td>\n",
       "    </tr>\n",
       "    <tr>\n",
       "      <th>1</th>\n",
       "      <td>The Godfather Part II</td>\n",
       "      <td>1974</td>\n",
       "      <td>202</td>\n",
       "      <td>9.0</td>\n",
       "      <td>90.0</td>\n",
       "      <td>1,358,608</td>\n",
       "      <td>Crime, Drama</td>\n",
       "      <td>Francis Ford Coppola</td>\n",
       "      <td>Al Pacino</td>\n",
       "      <td>$57.30M</td>\n",
       "    </tr>\n",
       "    <tr>\n",
       "      <th>2</th>\n",
       "      <td>Ordinary People</td>\n",
       "      <td>1980</td>\n",
       "      <td>124</td>\n",
       "      <td>7.7</td>\n",
       "      <td>86.0</td>\n",
       "      <td>56,476</td>\n",
       "      <td>Drama</td>\n",
       "      <td>Robert Redford</td>\n",
       "      <td>Donald Sutherland</td>\n",
       "      <td>$54.80M</td>\n",
       "    </tr>\n",
       "    <tr>\n",
       "      <th>3</th>\n",
       "      <td>Lawrence of Arabia</td>\n",
       "      <td>1962</td>\n",
       "      <td>218</td>\n",
       "      <td>8.3</td>\n",
       "      <td>100.0</td>\n",
       "      <td>313,044</td>\n",
       "      <td>Adventure, Biography, Drama</td>\n",
       "      <td>David Lean</td>\n",
       "      <td>Peter O'Toole</td>\n",
       "      <td>$44.82M</td>\n",
       "    </tr>\n",
       "    <tr>\n",
       "      <th>4</th>\n",
       "      <td>Straw Dogs</td>\n",
       "      <td>1971</td>\n",
       "      <td>113</td>\n",
       "      <td>7.4</td>\n",
       "      <td>73.0</td>\n",
       "      <td>64,331</td>\n",
       "      <td>Crime, Drama, Thriller</td>\n",
       "      <td>Sam Peckinpah</td>\n",
       "      <td>Dustin Hoffman</td>\n",
       "      <td>NaN</td>\n",
       "    </tr>\n",
       "  </tbody>\n",
       "</table>\n",
       "</div>"
      ],
      "text/plain": [
       "              Movie Name Release Year  Duration  IMDB Rating  Metascore  \\\n",
       "0          The Godfather         1972       175          9.2      100.0   \n",
       "1  The Godfather Part II         1974       202          9.0       90.0   \n",
       "2        Ordinary People         1980       124          7.7       86.0   \n",
       "3     Lawrence of Arabia         1962       218          8.3      100.0   \n",
       "4             Straw Dogs         1971       113          7.4       73.0   \n",
       "\n",
       "       Votes                        Genre              Director  \\\n",
       "0  2,002,655                 Crime, Drama  Francis Ford Coppola   \n",
       "1  1,358,608                 Crime, Drama  Francis Ford Coppola   \n",
       "2     56,476                        Drama        Robert Redford   \n",
       "3    313,044  Adventure, Biography, Drama            David Lean   \n",
       "4     64,331       Crime, Drama, Thriller         Sam Peckinpah   \n",
       "\n",
       "                Cast     Gross  \n",
       "0      Marlon Brando  $134.97M  \n",
       "1          Al Pacino   $57.30M  \n",
       "2  Donald Sutherland   $54.80M  \n",
       "3      Peter O'Toole   $44.82M  \n",
       "4     Dustin Hoffman       NaN  "
      ]
     },
     "execution_count": 119,
     "metadata": {},
     "output_type": "execute_result"
    }
   ],
   "source": [
    "# Import datasets\n",
    "data = pd.read_csv('imdb_top_2000_movies.csv')\n",
    "data.head()"
   ]
  },
  {
   "cell_type": "code",
   "execution_count": 123,
   "id": "6f8294ce-d029-46a7-950b-d2f98b10100b",
   "metadata": {},
   "outputs": [],
   "source": [
    "# Remove all commas\n",
    "data['Votes'] = data['Votes'].str.replace(',', '')\n",
    "# Remove $ sign\n",
    "data['Gross'] = data['Gross'].str.replace('$', '')\n",
    "df = pd.DataFrame(data)"
   ]
  },
  {
   "cell_type": "code",
   "execution_count": 124,
   "id": "17d3d201-5536-4d80-ae97-dc77687c6479",
   "metadata": {},
   "outputs": [
    {
     "data": {
      "text/html": [
       "<div>\n",
       "<style scoped>\n",
       "    .dataframe tbody tr th:only-of-type {\n",
       "        vertical-align: middle;\n",
       "    }\n",
       "\n",
       "    .dataframe tbody tr th {\n",
       "        vertical-align: top;\n",
       "    }\n",
       "\n",
       "    .dataframe thead th {\n",
       "        text-align: right;\n",
       "    }\n",
       "</style>\n",
       "<table border=\"1\" class=\"dataframe\">\n",
       "  <thead>\n",
       "    <tr style=\"text-align: right;\">\n",
       "      <th></th>\n",
       "      <th>Duration</th>\n",
       "      <th>IMDB Rating</th>\n",
       "      <th>Metascore</th>\n",
       "    </tr>\n",
       "  </thead>\n",
       "  <tbody>\n",
       "    <tr>\n",
       "      <th>count</th>\n",
       "      <td>2000.000000</td>\n",
       "      <td>2000.000000</td>\n",
       "      <td>1919.000000</td>\n",
       "    </tr>\n",
       "    <tr>\n",
       "      <th>mean</th>\n",
       "      <td>113.939000</td>\n",
       "      <td>6.922600</td>\n",
       "      <td>61.044294</td>\n",
       "    </tr>\n",
       "    <tr>\n",
       "      <th>std</th>\n",
       "      <td>22.946035</td>\n",
       "      <td>0.955618</td>\n",
       "      <td>17.937722</td>\n",
       "    </tr>\n",
       "    <tr>\n",
       "      <th>min</th>\n",
       "      <td>50.000000</td>\n",
       "      <td>1.500000</td>\n",
       "      <td>9.000000</td>\n",
       "    </tr>\n",
       "    <tr>\n",
       "      <th>25%</th>\n",
       "      <td>98.000000</td>\n",
       "      <td>6.400000</td>\n",
       "      <td>48.000000</td>\n",
       "    </tr>\n",
       "    <tr>\n",
       "      <th>50%</th>\n",
       "      <td>110.000000</td>\n",
       "      <td>7.000000</td>\n",
       "      <td>61.000000</td>\n",
       "    </tr>\n",
       "    <tr>\n",
       "      <th>75%</th>\n",
       "      <td>125.000000</td>\n",
       "      <td>7.600000</td>\n",
       "      <td>74.000000</td>\n",
       "    </tr>\n",
       "    <tr>\n",
       "      <th>max</th>\n",
       "      <td>271.000000</td>\n",
       "      <td>9.300000</td>\n",
       "      <td>100.000000</td>\n",
       "    </tr>\n",
       "  </tbody>\n",
       "</table>\n",
       "</div>"
      ],
      "text/plain": [
       "          Duration  IMDB Rating    Metascore\n",
       "count  2000.000000  2000.000000  1919.000000\n",
       "mean    113.939000     6.922600    61.044294\n",
       "std      22.946035     0.955618    17.937722\n",
       "min      50.000000     1.500000     9.000000\n",
       "25%      98.000000     6.400000    48.000000\n",
       "50%     110.000000     7.000000    61.000000\n",
       "75%     125.000000     7.600000    74.000000\n",
       "max     271.000000     9.300000   100.000000"
      ]
     },
     "execution_count": 124,
     "metadata": {},
     "output_type": "execute_result"
    }
   ],
   "source": [
    "df.describe()"
   ]
  },
  {
   "cell_type": "code",
   "execution_count": 125,
   "id": "77841875-357e-4140-ad22-cc2e54d33b5b",
   "metadata": {},
   "outputs": [
    {
     "name": "stdout",
     "output_type": "stream",
     "text": [
      "<class 'pandas.core.frame.DataFrame'>\n",
      "RangeIndex: 2000 entries, 0 to 1999\n",
      "Data columns (total 10 columns):\n",
      " #   Column        Non-Null Count  Dtype  \n",
      "---  ------        --------------  -----  \n",
      " 0   Movie Name    2000 non-null   object \n",
      " 1   Release Year  2000 non-null   object \n",
      " 2   Duration      2000 non-null   int64  \n",
      " 3   IMDB Rating   2000 non-null   float64\n",
      " 4   Metascore     1919 non-null   float64\n",
      " 5   Votes         2000 non-null   object \n",
      " 6   Genre         2000 non-null   object \n",
      " 7   Director      2000 non-null   object \n",
      " 8   Cast          2000 non-null   object \n",
      " 9   Gross         1903 non-null   object \n",
      "dtypes: float64(2), int64(1), object(7)\n",
      "memory usage: 156.4+ KB\n"
     ]
    }
   ],
   "source": [
    "df.info()"
   ]
  },
  {
   "cell_type": "code",
   "execution_count": 126,
   "id": "b1bb0b98-83c7-41f2-9ada-c391d1b6db2b",
   "metadata": {},
   "outputs": [
    {
     "name": "stdout",
     "output_type": "stream",
     "text": [
      "Data type :  <class 'pandas.core.frame.DataFrame'>\n",
      "Data dims :  (2000, 10)\n",
      "Movie Name       object\n",
      "Release Year     object\n",
      "Duration          int64\n",
      "IMDB Rating     float64\n",
      "Metascore       float64\n",
      "Votes            object\n",
      "Genre            object\n",
      "Director         object\n",
      "Cast             object\n",
      "Gross            object\n",
      "dtype: object\n"
     ]
    }
   ],
   "source": [
    "print(\"Data type : \", type(data))\n",
    "print(\"Data dims : \", data.shape)\n",
    "print(data.dtypes)"
   ]
  },
  {
   "cell_type": "code",
   "execution_count": 122,
   "id": "0738ff16-cc26-4a90-9b7e-92477929b67b",
   "metadata": {},
   "outputs": [
    {
     "data": {
      "text/plain": [
       "<Axes: >"
      ]
     },
     "execution_count": 122,
     "metadata": {},
     "output_type": "execute_result"
    },
    {
     "data": {
      "image/png": "[encoded data removed]",
      "text/plain": [
       "<Figure size 1200x1200 with 2 Axes>"
      ]
     },
     "metadata": {},
     "output_type": "display_data"
    }
   ],
   "source": [
    "corr=pd.DataFrame(data[['Duration', 'IMDB Rating', 'Metascore', 'Votes']])\n",
    "f = plt.figure(figsize=(12, 12))\n",
    "sb.heatmap(corr.corr(), vmin = -1, vmax = 1, linewidths = 1,\n",
    "           annot = True, fmt = \".2f\", annot_kws = {\"size\": 18}, cmap = \"RdBu\")"
   ]
  },
  {
   "cell_type": "code",
   "execution_count": null,
   "id": "282f995b-504a-4c1c-baaa-a61b5da3b2d1",
   "metadata": {},
   "outputs": [],
   "source": []
  }
 ],
 "metadata": {
  "kernelspec": {
   "display_name": "Python 3 (ipykernel)",
   "language": "python",
   "name": "python3"
  },
  "language_info": {
   "codemirror_mode": {
    "name": "ipython",
    "version": 3
   },
   "file_extension": ".py",
   "mimetype": "text/x-python",
   "name": "python",
   "nbconvert_exporter": "python",
   "pygments_lexer": "ipython3",
   "version": "3.11.4"
  }
 },
 "nbformat": 4,
 "nbformat_minor": 5
}
